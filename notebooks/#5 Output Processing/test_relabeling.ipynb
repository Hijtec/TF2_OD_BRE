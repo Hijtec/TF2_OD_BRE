{
 "cells": [
  {
   "cell_type": "code",
   "execution_count": null,
   "metadata": {
    "collapsed": true
   },
   "outputs": [],
   "source": [
    "import numpy as np\n",
    "\n",
    "dtype = [(\"x\", float), (\"y\", float), (\"n\", int)]\n",
    "data = np.array(\n",
    "    [\n",
    "        (0.625, 0.11, 1),\n",
    "        (0.12, 0.35, 2),\n",
    "        (0.39, 0.36, 3),\n",
    "        (0.61, 0.38, 4),\n",
    "        (0.89, 0.32, 5),\n",
    "        (0.14, 0.53, 6),\n",
    "        (0.40, 0.52, 7),\n",
    "        (0.62, 0.56, 8),\n",
    "        (0.90, 0.58, 9),\n",
    "        (0.11, 0.72, 10),\n",
    "        (0.35, 0.71, 11),\n",
    "        (0.58, 0.74, 12),\n",
    "        (0.82, 0.71, 13),\n",
    "        (0.10, 0.93, 14),\n",
    "        (0.37, 0.88, 15),\n",
    "    ],\n",
    "    dtype=dtype,\n",
    ")\n",
    "data_OCR = np.array(\n",
    "    [\n",
    "        (0.625, 0.11, 1),\n",
    "        (0.12, 0.35, 2),\n",
    "        (0.39, 0.36, 3),\n",
    "        (0.61, 0.38, 4),\n",
    "        (0.89, 0.32, 5),\n",
    "        (0.14, 0.53, 8),\n",
    "        (0.40, 0.52, 7),\n",
    "        (0.62, 0.56, 8),\n",
    "        (0.90, 0.58, 8),\n",
    "        (0.11, 0.72, 1),\n",
    "        (0.35, 0.71, 11),\n",
    "        (0.58, 0.74, 12),\n",
    "        (0.82, 0.71, 13),\n",
    "        (0.10, 0.93, 13),\n",
    "        (0.37, 0.88, 15),\n",
    "    ],\n",
    "    dtype=dtype,\n",
    ")\n",
    "but_w = 0.2\n",
    "but_h = 0.18"
   ]
  }
 ],
 "metadata": {
  "kernelspec": {
   "display_name": "Python 3",
   "language": "python",
   "name": "python3"
  },
  "language_info": {
   "codemirror_mode": {
    "name": "ipython",
    "version": 2
   },
   "file_extension": ".py",
   "mimetype": "text/x-python",
   "name": "python",
   "nbconvert_exporter": "python",
   "pygments_lexer": "ipython2",
   "version": "2.7.6"
  }
 },
 "nbformat": 4,
 "nbformat_minor": 0
}