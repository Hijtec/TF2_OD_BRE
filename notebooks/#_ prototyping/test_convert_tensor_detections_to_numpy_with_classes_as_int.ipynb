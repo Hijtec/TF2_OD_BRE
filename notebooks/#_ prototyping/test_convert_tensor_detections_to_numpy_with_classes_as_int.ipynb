{
 "cells": [
  {
   "cell_type": "markdown",
   "metadata": {
    "collapsed": true,
    "pycharm": {
     "name": "#%% md\n"
    }
   },
   "source": [
    "@timer_wrapper\n",
    "def process_tf2_detection(detections_batch, convert_classes_to_int=True):\n",
    "    \"\"\"Processes the TF2 detections batch\n",
    "    Args:\n",
    "        detections_batch: Dictionary of detections.\n",
    "        convert_classes_to_int: Bool converting the classes to int64(float by default)\n",
    "    Returns:\n",
    "        detections: Dictionary of detections, processed.\n",
    "    \"\"\"\n",
    "    # TODO: not used atm\n",
    "    num_detections = int(detections_batch.pop('num_detections'))\n",
    "    logging.info(f\"Processing {num_detections} TF2 detections.\")\n",
    "    detections = {k: v[0, :num_detections].numpy() for k, v in detections_batch.items()}\n",
    "    if convert_classes_to_int:\n",
    "        detections['detection_classes'] = detections['detection_classes'].astype(np.int64)\n",
    "    return detections\n"
   ]
  }
 ],
 "metadata": {
  "kernelspec": {
   "display_name": "Python 3",
   "language": "python",
   "name": "python3"
  },
  "language_info": {
   "codemirror_mode": {
    "name": "ipython",
    "version": 2
   },
   "file_extension": ".py",
   "mimetype": "text/x-python",
   "name": "python",
   "nbconvert_exporter": "python",
   "pygments_lexer": "ipython2",
   "version": "2.7.6"
  }
 },
 "nbformat": 4,
 "nbformat_minor": 0
}