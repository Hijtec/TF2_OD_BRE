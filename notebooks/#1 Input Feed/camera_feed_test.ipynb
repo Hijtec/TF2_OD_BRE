{
 "cells": [
  {
   "cell_type": "markdown",
   "metadata": {
    "collapsed": true,
    "pycharm": {
     "name": "#%% md\n"
    }
   },
   "source": [
    "Testing the asynchronous camera access"
   ]
  },
  {
   "cell_type": "code",
   "execution_count": 1,
   "outputs": [
    {
     "name": "stdout",
     "output_type": "stream",
     "text": [
      "Error: Does not exist sound mixer library.\n",
      "   > pip3 install pygame\n",
      "Error: Does not exist ffmpeg.\n",
      "   > brew install ffmpeg # on MacOSX\n",
      "   or\n",
      "   > sudo apt install -y ffmpeg # on Ubuntu\n"
     ]
    }
   ],
   "source": [
    "from src.input_feed.src.camera_feed import CameraFeed\n",
    "def jobs_manager():\n",
    "    from IPython.lib.backgroundjobs import BackgroundJobManager\n",
    "    from IPython.core.magic import register_line_magic\n",
    "    from IPython import get_ipython\n",
    "\n",
    "    jobs = BackgroundJobManager()\n",
    "\n",
    "    @register_line_magic\n",
    "    def job(line):\n",
    "        ip = get_ipython()\n",
    "        jobs.new(line, ip.user_global_ns)\n",
    "\n",
    "    return jobs\n",
    "\n",
    "def kill_thread(thread):\n",
    "    import ctypes\n",
    "\n",
    "    id = thread.ident\n",
    "    code = ctypes.pythonapi.PyThreadState_SetAsyncExc(\n",
    "        ctypes.c_long(id),\n",
    "        ctypes.py_object(SystemError)\n",
    "    )\n",
    "    if code == 0:\n",
    "        raise ValueError('invalid thread id')\n",
    "    elif code != 1:\n",
    "        ctypes.pythonapi.PyThreadState_SetAsyncExc(\n",
    "            ctypes.c_long(id),\n",
    "            ctypes.c_long(0)\n",
    "        )\n",
    "        raise SystemError('PyThreadState_SetAsyncExc failed')"
   ],
   "metadata": {
    "collapsed": false,
    "pycharm": {
     "name": "#%%\n"
    }
   }
  },
  {
   "cell_type": "code",
   "execution_count": 2,
   "outputs": [],
   "source": [
    "cam = CameraFeed(0)\n",
    "\n",
    "jobs = jobs_manager()\n",
    "%job cam.start_camera_stream()"
   ],
   "metadata": {
    "collapsed": false,
    "pycharm": {
     "name": "#%%\n"
    }
   }
  },
  {
   "cell_type": "code",
   "execution_count": 4,
   "outputs": [],
   "source": [
    "cam.show_frame()"
   ],
   "metadata": {
    "collapsed": false,
    "pycharm": {
     "name": "#%% Shows actual frame\n"
    }
   }
  },
  {
   "cell_type": "code",
   "execution_count": 5,
   "outputs": [],
   "source": [
    "for thread in jobs.running:\n",
    "    kill_thread(thread)\n"
   ],
   "metadata": {
    "collapsed": false,
    "pycharm": {
     "name": "#%% Kills all threads running throug %job\n"
    }
   }
  }
 ],
 "metadata": {
  "kernelspec": {
   "display_name": "Python 3",
   "language": "python",
   "name": "python3"
  },
  "language_info": {
   "codemirror_mode": {
    "name": "ipython",
    "version": 2
   },
   "file_extension": ".py",
   "mimetype": "text/x-python",
   "name": "python",
   "nbconvert_exporter": "python",
   "pygments_lexer": "ipython2",
   "version": "2.7.6"
  }
 },
 "nbformat": 4,
 "nbformat_minor": 0
}