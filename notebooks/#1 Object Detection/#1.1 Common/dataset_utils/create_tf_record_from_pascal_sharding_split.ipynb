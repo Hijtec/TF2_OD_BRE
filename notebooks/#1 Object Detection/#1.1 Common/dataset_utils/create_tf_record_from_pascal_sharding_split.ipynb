{
 "cells": [
  {
   "cell_type": "markdown",
   "source": [
    "Converts the PascalVOC dataset file into TFRecord for use in Tensorflow Object Detection API 2\n",
    "INPUT: PascalVOC dataset folder\n",
    "OUTPUT: TFRecord dataset .record file"
   ],
   "metadata": {
    "collapsed": false
   }
  },
  {
   "cell_type": "code",
   "execution_count": 15,
   "outputs": [],
   "source": [
    "CONDA_ENV_PATH = r\"C:\\Users\\cernil\\TF2_OD_BRE\\env\"\n",
    "LABEL_MAP_PATH =r\"C:\\Users\\cernil\\TF2_OD_BRE\\data\\dummy_dataset_pascal_voc\\task_bre_annotation_mc-2021_02_03_11_53_00-pascal\\pascal_label_map.pbtxt\"\n",
    "SCRIPT_PATH = r\"C:\\Users\\cernil\\TF2_OD_BRE\\src\\object_detection\\dataset_utilities\\create_pascal_tf_record_sharding_split.py\"\n",
    "DATA_DIR = r\"C:\\Users\\cernil\\TF2_OD_BRE\\data\\dummy_dataset_pascal_voc\\task_bre_annotation_mc-2021_02_03_11_53_00-pascal\"\n",
    "OUTPUT_FOLDER = r\"C:\\Users\\cernil\\TF2_OD_BRE\\data\\dummy_dataset_tfrecord_generated\"\n",
    "NUM_SHARDS = \"10\"\n",
    "TRAIN_TO_EVAL_SPLIT = \"0.8\""
   ],
   "metadata": {
    "collapsed": false,
    "pycharm": {
     "name": "#%%\n"
    }
   }
  },
  {
   "cell_type": "markdown",
   "source": [
    "Pascal XML fields are converted into standardized TFExample with features,\n",
    "then serialized into string using TFWriter."
   ],
   "metadata": {
    "collapsed": false
   }
  },
  {
   "cell_type": "code",
   "execution_count": 16,
   "outputs": [],
   "source": [
    "env = f\"conda activate {CONDA_ENV_PATH} && \"\n",
    "run = f\"python {SCRIPT_PATH}\\\n",
    "    --data_dir={DATA_DIR} \\\n",
    "    --output_path={OUTPUT_FOLDER} \\\n",
    "    --label_map_path={LABEL_MAP_PATH} \\\n",
    "    --num_shards={NUM_SHARDS}\""
   ],
   "metadata": {
    "collapsed": false,
    "pycharm": {
     "name": "#%%\n"
    }
   }
  },
  {
   "cell_type": "code",
   "execution_count": 17,
   "outputs": [
    {
     "name": "stderr",
     "output_type": "stream",
     "text": [
      "2021-02-07 18:41:15.809124: W tensorflow/stream_executor/platform/default/dso_loader.cc:59] Could not load dynamic library 'cudart64_101.dll'; dlerror: cudart64_101.dll not found\n",
      "2021-02-07 18:41:15.809193: I tensorflow/stream_executor/cuda/cudart_stub.cc:29] Ignore above cudart dlerror if you do not have a GPU set up on your machine.\n",
      "I0207 18:41:19.547810 20576 create_pascal_tf_record_sharding_split.py:150] Reading from PASCAL C:\\Users\\cernil\\TF2_OD_BRE\\data\\dummy_dataset_pascal_voc\\task_bre_annotation_mc-2021_02_03_11_53_00-pascal dataset.\n",
      "I0207 18:41:19.575994 20576 create_pascal_tf_record_sharding_split.py:165] On image 0 of 3850\n",
      "C:\\Users\\cernil\\TF2_OD_BRE\\src\\models\\research\\object_detection\\utils\\dataset_util.py:83: FutureWarning: The behavior of this method will change in future versions. Use specific 'len(elem)' or 'elem is not None' test instead.\n",
      "  if not xml:\n",
      "I0207 18:41:20.518211 20576 create_pascal_tf_record_sharding_split.py:165] On image 100 of 3850\n",
      "I0207 18:41:21.337419 20576 create_pascal_tf_record_sharding_split.py:165] On image 200 of 3850\n",
      "I0207 18:41:22.240973 20576 create_pascal_tf_record_sharding_split.py:165] On image 300 of 3850\n",
      "I0207 18:41:23.156466 20576 create_pascal_tf_record_sharding_split.py:165] On image 400 of 3850\n",
      "I0207 18:41:23.989452 20576 create_pascal_tf_record_sharding_split.py:165] On image 500 of 3850\n",
      "I0207 18:41:24.881609 20576 create_pascal_tf_record_sharding_split.py:165] On image 600 of 3850\n",
      "I0207 18:41:25.846952 20576 create_pascal_tf_record_sharding_split.py:165] On image 700 of 3850\n",
      "I0207 18:41:26.815020 20576 create_pascal_tf_record_sharding_split.py:165] On image 800 of 3850\n",
      "I0207 18:41:27.788349 20576 create_pascal_tf_record_sharding_split.py:165] On image 900 of 3850\n",
      "I0207 18:41:28.672794 20576 create_pascal_tf_record_sharding_split.py:165] On image 1000 of 3850\n",
      "I0207 18:41:29.731260 20576 create_pascal_tf_record_sharding_split.py:165] On image 1100 of 3850\n",
      "I0207 18:41:30.567184 20576 create_pascal_tf_record_sharding_split.py:165] On image 1200 of 3850\n",
      "I0207 18:41:31.515232 20576 create_pascal_tf_record_sharding_split.py:165] On image 1300 of 3850\n",
      "I0207 18:41:32.508677 20576 create_pascal_tf_record_sharding_split.py:165] On image 1400 of 3850\n",
      "I0207 18:41:33.521112 20576 create_pascal_tf_record_sharding_split.py:165] On image 1500 of 3850\n",
      "I0207 18:41:34.355037 20576 create_pascal_tf_record_sharding_split.py:165] On image 1600 of 3850\n",
      "I0207 18:41:35.303700 20576 create_pascal_tf_record_sharding_split.py:165] On image 1700 of 3850\n",
      "I0207 18:41:36.227297 20576 create_pascal_tf_record_sharding_split.py:165] On image 1800 of 3850\n",
      "I0207 18:41:37.043775 20576 create_pascal_tf_record_sharding_split.py:165] On image 1900 of 3850\n",
      "I0207 18:41:37.948362 20576 create_pascal_tf_record_sharding_split.py:165] On image 2000 of 3850\n",
      "I0207 18:41:38.866916 20576 create_pascal_tf_record_sharding_split.py:165] On image 2100 of 3850\n",
      "I0207 18:41:39.684156 20576 create_pascal_tf_record_sharding_split.py:165] On image 2200 of 3850\n",
      "I0207 18:41:40.599520 20576 create_pascal_tf_record_sharding_split.py:165] On image 2300 of 3850\n",
      "I0207 18:41:41.564610 20576 create_pascal_tf_record_sharding_split.py:165] On image 2400 of 3850\n",
      "I0207 18:41:42.372559 20576 create_pascal_tf_record_sharding_split.py:165] On image 2500 of 3850\n",
      "I0207 18:41:43.227387 20576 create_pascal_tf_record_sharding_split.py:165] On image 2600 of 3850\n",
      "I0207 18:41:44.089762 20576 create_pascal_tf_record_sharding_split.py:165] On image 2700 of 3850\n",
      "I0207 18:41:44.887190 20576 create_pascal_tf_record_sharding_split.py:165] On image 2800 of 3850\n",
      "I0207 18:41:45.859768 20576 create_pascal_tf_record_sharding_split.py:165] On image 2900 of 3850\n",
      "I0207 18:41:46.668407 20576 create_pascal_tf_record_sharding_split.py:165] On image 3000 of 3850\n",
      "I0207 18:41:47.611219 20576 create_pascal_tf_record_sharding_split.py:165] On image 3100 of 3850\n",
      "I0207 18:41:48.484666 20576 create_pascal_tf_record_sharding_split.py:165] On image 3200 of 3850\n",
      "I0207 18:41:49.288441 20576 create_pascal_tf_record_sharding_split.py:165] On image 3300 of 3850\n",
      "I0207 18:41:50.201032 20576 create_pascal_tf_record_sharding_split.py:165] On image 3400 of 3850\n",
      "I0207 18:41:51.151212 20576 create_pascal_tf_record_sharding_split.py:165] On image 3500 of 3850\n",
      "I0207 18:41:51.950981 20576 create_pascal_tf_record_sharding_split.py:165] On image 3600 of 3850\n",
      "I0207 18:41:52.932635 20576 create_pascal_tf_record_sharding_split.py:165] On image 3700 of 3850\n",
      "I0207 18:41:53.831153 20576 create_pascal_tf_record_sharding_split.py:165] On image 3800 of 3850\n",
      "I0207 18:41:54.935166 20576 create_pascal_tf_record_sharding_split.py:165] On image 0 of 963\n",
      "I0207 18:41:55.752715 20576 create_pascal_tf_record_sharding_split.py:165] On image 100 of 963\n",
      "I0207 18:41:56.588558 20576 create_pascal_tf_record_sharding_split.py:165] On image 200 of 963\n",
      "I0207 18:41:57.401725 20576 create_pascal_tf_record_sharding_split.py:165] On image 300 of 963\n",
      "I0207 18:41:58.232238 20576 create_pascal_tf_record_sharding_split.py:165] On image 400 of 963\n",
      "I0207 18:41:59.130988 20576 create_pascal_tf_record_sharding_split.py:165] On image 500 of 963\n",
      "I0207 18:41:59.959967 20576 create_pascal_tf_record_sharding_split.py:165] On image 600 of 963\n",
      "I0207 18:42:00.807616 20576 create_pascal_tf_record_sharding_split.py:165] On image 700 of 963\n",
      "I0207 18:42:01.605363 20576 create_pascal_tf_record_sharding_split.py:165] On image 800 of 963\n",
      "I0207 18:42:02.568718 20576 create_pascal_tf_record_sharding_split.py:165] On image 900 of 963\n"
     ]
    }
   ],
   "source": [
    "cmd = env + run\n",
    "!{cmd}\n"
   ],
   "metadata": {
    "collapsed": false,
    "pycharm": {
     "name": "#%%\n"
    }
   }
  }
 ],
 "metadata": {
  "kernelspec": {
   "display_name": "Python 3",
   "language": "python",
   "name": "python3"
  },
  "language_info": {
   "codemirror_mode": {
    "name": "ipython",
    "version": 2
   },
   "file_extension": ".py",
   "mimetype": "text/x-python",
   "name": "python",
   "nbconvert_exporter": "python",
   "pygments_lexer": "ipython2",
   "version": "2.7.6"
  }
 },
 "nbformat": 4,
 "nbformat_minor": 0
}