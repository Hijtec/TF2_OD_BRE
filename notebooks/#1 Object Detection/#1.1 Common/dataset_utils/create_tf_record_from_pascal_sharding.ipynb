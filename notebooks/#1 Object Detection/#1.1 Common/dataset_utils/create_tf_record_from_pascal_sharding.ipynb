{
 "cells": [
  {
   "cell_type": "markdown",
   "source": [
    "Converts the PascalVOC dataset file into TFRecord for use in Tensorflow Object Detection API 2\n",
    "INPUT: PascalVOC dataset folder\n",
    "OUTPUT: TFRecord dataset .record file"
   ],
   "metadata": {
    "collapsed": false
   }
  },
  {
   "cell_type": "code",
   "execution_count": 1,
   "outputs": [],
   "source": [
    "CONDA_ENV_PATH = r\"C:\\Users\\cernil\\TF2_OD_BRE\\env\"\n",
    "LABEL_MAP_PATH =r\"C:\\Users\\cernil\\TF2_OD_BRE\\data\\dummy_dataset_pascal_voc\\task_bre_annotation_mc-2021_02_03_11_53_00-pascal\\pascal_label_map.pbtxt\"\n",
    "SCRIPT_PATH = r\"C:\\Users\\cernil\\TF2_OD_BRE\\src\\object_detection\\dataset_utilities\\create_pascal_tf_record_sharding.py\"\n",
    "DATA_DIR = r\"C:\\Users\\cernil\\TF2_OD_BRE\\data\\dummy_dataset_pascal_voc\\task_bre_annotation_mc-2021_02_03_11_53_00-pascal\"\n",
    "OUTPUT_FILE = r\"C:\\Users\\cernil\\TF2_OD_BRE\\data\\dummy_dataset_tfrecord_generated\\from_dummy_pascal.record\"\n",
    "NUM_SHARDS = \"10\""
   ],
   "metadata": {
    "collapsed": false,
    "pycharm": {
     "name": "#%%\n"
    }
   }
  },
  {
   "cell_type": "markdown",
   "source": [
    "Pascal XML fields are converted into standardized TFExample with features,\n",
    "then serialized into string using TFWriter."
   ],
   "metadata": {
    "collapsed": false
   }
  },
  {
   "cell_type": "code",
   "execution_count": 2,
   "outputs": [],
   "source": [
    "env = f\"conda activate {CONDA_ENV_PATH} && \"\n",
    "run = f\"python {SCRIPT_PATH}\\\n",
    "    --data_dir={DATA_DIR} \\\n",
    "    --output_path={OUTPUT_FILE} \\\n",
    "    --label_map_path={LABEL_MAP_PATH} \\\n",
    "    --num_shards={NUM_SHARDS}\""
   ],
   "metadata": {
    "collapsed": false,
    "pycharm": {
     "name": "#%%\n"
    }
   }
  },
  {
   "cell_type": "code",
   "execution_count": 4,
   "outputs": [
    {
     "name": "stderr",
     "output_type": "stream",
     "text": [
      "2021-02-05 19:29:20.331354: W tensorflow/stream_executor/platform/default/dso_loader.cc:59] Could not load dynamic library 'cudart64_101.dll'; dlerror: cudart64_101.dll not found\n",
      "2021-02-05 19:29:20.331426: I tensorflow/stream_executor/cuda/cudart_stub.cc:29] Ignore above cudart dlerror if you do not have a GPU set up on your machine.\n",
      "I0205 19:29:24.586369  9604 create_pascal_tf_record_sharding.py:142] Reading from PASCAL C:\\Users\\cernil\\TF2_OD_BRE\\data\\dummy_dataset_pascal_voc\\task_bre_annotation_mc-2021_02_03_11_53_00-pascal dataset.\n",
      "I0205 19:29:24.610355  9604 create_pascal_tf_record_sharding.py:152] On image 0 of 4813\n",
      "C:\\Users\\cernil\\TF2_OD_BRE\\src\\models\\research\\object_detection\\utils\\dataset_util.py:83: FutureWarning: The behavior of this method will change in future versions. Use specific 'len(elem)' or 'elem is not None' test instead.\n",
      "  if not xml:\n",
      "I0205 19:29:25.140279  9604 create_pascal_tf_record_sharding.py:152] On image 100 of 4813\n",
      "I0205 19:29:25.893837  9604 create_pascal_tf_record_sharding.py:152] On image 200 of 4813\n",
      "I0205 19:29:26.504717  9604 create_pascal_tf_record_sharding.py:152] On image 300 of 4813\n",
      "I0205 19:29:27.227404  9604 create_pascal_tf_record_sharding.py:152] On image 400 of 4813\n",
      "I0205 19:29:27.837329  9604 create_pascal_tf_record_sharding.py:152] On image 500 of 4813\n",
      "I0205 19:29:28.416796  9604 create_pascal_tf_record_sharding.py:152] On image 600 of 4813\n",
      "I0205 19:29:28.985620  9604 create_pascal_tf_record_sharding.py:152] On image 700 of 4813\n",
      "I0205 19:29:29.562511  9604 create_pascal_tf_record_sharding.py:152] On image 800 of 4813\n",
      "I0205 19:29:30.338826  9604 create_pascal_tf_record_sharding.py:152] On image 900 of 4813\n",
      "I0205 19:29:30.844210  9604 create_pascal_tf_record_sharding.py:152] On image 1000 of 4813\n",
      "I0205 19:29:31.653683  9604 create_pascal_tf_record_sharding.py:152] On image 1100 of 4813\n",
      "I0205 19:29:32.384547  9604 create_pascal_tf_record_sharding.py:152] On image 1200 of 4813\n",
      "I0205 19:29:33.167516  9604 create_pascal_tf_record_sharding.py:152] On image 1300 of 4813\n",
      "I0205 19:29:33.759760  9604 create_pascal_tf_record_sharding.py:152] On image 1400 of 4813\n",
      "I0205 19:29:34.233457  9604 create_pascal_tf_record_sharding.py:152] On image 1500 of 4813\n",
      "I0205 19:29:34.674627  9604 create_pascal_tf_record_sharding.py:152] On image 1600 of 4813\n",
      "I0205 19:29:35.342540  9604 create_pascal_tf_record_sharding.py:152] On image 1700 of 4813\n",
      "I0205 19:29:35.916645  9604 create_pascal_tf_record_sharding.py:152] On image 1800 of 4813\n",
      "I0205 19:29:36.703927  9604 create_pascal_tf_record_sharding.py:152] On image 1900 of 4813\n",
      "I0205 19:29:37.224252  9604 create_pascal_tf_record_sharding.py:152] On image 2000 of 4813\n",
      "I0205 19:29:37.704754  9604 create_pascal_tf_record_sharding.py:152] On image 2100 of 4813\n",
      "I0205 19:29:38.572386  9604 create_pascal_tf_record_sharding.py:152] On image 2200 of 4813\n",
      "I0205 19:29:39.157254  9604 create_pascal_tf_record_sharding.py:152] On image 2300 of 4813\n",
      "I0205 19:29:39.886357  9604 create_pascal_tf_record_sharding.py:152] On image 2400 of 4813\n",
      "I0205 19:29:40.585095  9604 create_pascal_tf_record_sharding.py:152] On image 2500 of 4813\n",
      "I0205 19:29:41.234887  9604 create_pascal_tf_record_sharding.py:152] On image 2600 of 4813\n",
      "I0205 19:29:42.484401  9604 create_pascal_tf_record_sharding.py:152] On image 2700 of 4813\n",
      "I0205 19:29:42.998042  9604 create_pascal_tf_record_sharding.py:152] On image 2800 of 4813\n",
      "I0205 19:29:43.583245  9604 create_pascal_tf_record_sharding.py:152] On image 2900 of 4813\n",
      "I0205 19:29:44.489715  9604 create_pascal_tf_record_sharding.py:152] On image 3000 of 4813\n",
      "I0205 19:29:45.169715  9604 create_pascal_tf_record_sharding.py:152] On image 3100 of 4813\n",
      "I0205 19:29:45.713996  9604 create_pascal_tf_record_sharding.py:152] On image 3200 of 4813\n",
      "I0205 19:29:46.315237  9604 create_pascal_tf_record_sharding.py:152] On image 3300 of 4813\n",
      "I0205 19:29:47.068984  9604 create_pascal_tf_record_sharding.py:152] On image 3400 of 4813\n",
      "I0205 19:29:47.978676  9604 create_pascal_tf_record_sharding.py:152] On image 3500 of 4813\n",
      "I0205 19:29:48.587476  9604 create_pascal_tf_record_sharding.py:152] On image 3600 of 4813\n",
      "I0205 19:29:49.084702  9604 create_pascal_tf_record_sharding.py:152] On image 3700 of 4813\n",
      "I0205 19:29:49.751287  9604 create_pascal_tf_record_sharding.py:152] On image 3800 of 4813\n",
      "I0205 19:29:50.272140  9604 create_pascal_tf_record_sharding.py:152] On image 3900 of 4813\n",
      "I0205 19:29:50.793375  9604 create_pascal_tf_record_sharding.py:152] On image 4000 of 4813\n",
      "I0205 19:29:51.426401  9604 create_pascal_tf_record_sharding.py:152] On image 4100 of 4813\n",
      "I0205 19:29:52.141400  9604 create_pascal_tf_record_sharding.py:152] On image 4200 of 4813\n",
      "I0205 19:29:52.541400  9604 create_pascal_tf_record_sharding.py:152] On image 4300 of 4813\n",
      "I0205 19:29:52.949419  9604 create_pascal_tf_record_sharding.py:152] On image 4400 of 4813\n",
      "I0205 19:29:53.398747  9604 create_pascal_tf_record_sharding.py:152] On image 4500 of 4813\n",
      "I0205 19:29:53.815011  9604 create_pascal_tf_record_sharding.py:152] On image 4600 of 4813\n",
      "I0205 19:29:54.595540  9604 create_pascal_tf_record_sharding.py:152] On image 4700 of 4813\n",
      "I0205 19:29:55.558861  9604 create_pascal_tf_record_sharding.py:152] On image 4800 of 4813\n"
     ]
    }
   ],
   "source": [
    "cmd = env + run\n",
    "!{cmd}\n"
   ],
   "metadata": {
    "collapsed": false,
    "pycharm": {
     "name": "#%%\n"
    }
   }
  }
 ],
 "metadata": {
  "kernelspec": {
   "display_name": "Python 3",
   "language": "python",
   "name": "python3"
  },
  "language_info": {
   "codemirror_mode": {
    "name": "ipython",
    "version": 2
   },
   "file_extension": ".py",
   "mimetype": "text/x-python",
   "name": "python",
   "nbconvert_exporter": "python",
   "pygments_lexer": "ipython2",
   "version": "2.7.6"
  }
 },
 "nbformat": 4,
 "nbformat_minor": 0
}