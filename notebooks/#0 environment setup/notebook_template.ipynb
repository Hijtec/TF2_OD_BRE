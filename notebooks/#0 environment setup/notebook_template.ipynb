{
 "cells": [
  {
   "cell_type": "markdown",
   "source": [
    "DESCRIPTION: *EDIT\n",
    "INPUT: *EDIT\n",
    "OUTPUT: *EDIT"
   ],
   "metadata": {
    "collapsed": false
   }
  },
  {
   "cell_type": "code",
   "execution_count": 14,
   "outputs": [],
   "source": [
    "CONDA_ENV_PATH = r\"C:\\Users\\cernil\\TF2_OD_BRE\\env\"\n",
    "SCRIPT_PATH = r\"script_path.py\" *EDIT\n",
    "PARAMETER = r\"parameter_path\" *EDIT"
   ],
   "metadata": {
    "collapsed": false,
    "pycharm": {
     "name": "#%%\n"
    }
   }
  },
  {
   "cell_type": "markdown",
   "source": [
    "*EDIT Describe_the_script_in_detail"
   ],
   "metadata": {
    "collapsed": false
   }
  },
  {
   "cell_type": "code",
   "execution_count": 15,
   "outputs": [],
   "source": [
    "env = f\"conda activate {CONDA_ENV_PATH} && \"\n",
    "#*EDIT\n",
    "run = f\"python {SCRIPT_PATH}\\\n",
    "    --parameter={PARAMETER} \\\n",
    "    \""
   ],
   "metadata": {
    "collapsed": false,
    "pycharm": {
     "name": "#%%\n"
    }
   }
  },
  {
   "cell_type": "code",
   "execution_count": 16,
   "outputs": [
    {
     "name": "stderr",
     "output_type": "stream",
     "text": [
      "2021-02-05 19:25:42.296061: W tensorflow/stream_executor/platform/default/dso_loader.cc:59] Could not load dynamic library 'cudart64_101.dll'; dlerror: cudart64_101.dll not found\n",
      "2021-02-05 19:25:42.296133: I tensorflow/stream_executor/cuda/cudart_stub.cc:29] Ignore above cudart dlerror if you do not have a GPU set up on your machine.\n",
      "I0205 19:25:46.923559  5744 create_pascal_tf_record_no_sharding.py:134] Reading from PASCAL C:\\Users\\cernil\\TF2_OD_BRE\\data\\dummy_dataset_pascal_voc\\task_bre_annotation_mc-2021_02_03_11_53_00-pascal dataset.\n",
      "I0205 19:25:46.979521  5744 create_pascal_tf_record_no_sharding.py:141] On image 0 of 4813\n",
      "C:\\Users\\cernil\\TF2_OD_BRE\\src\\models\\research\\object_detection\\utils\\dataset_util.py:83: FutureWarning: The behavior of this method will change in future versions. Use specific 'len(elem)' or 'elem is not None' test instead.\n",
      "  if not xml:\n",
      "I0205 19:25:48.839322  5744 create_pascal_tf_record_no_sharding.py:141] On image 100 of 4813\n",
      "I0205 19:25:50.052695  5744 create_pascal_tf_record_no_sharding.py:141] On image 200 of 4813\n",
      "I0205 19:25:51.130018  5744 create_pascal_tf_record_no_sharding.py:141] On image 300 of 4813\n",
      "I0205 19:25:52.308804  5744 create_pascal_tf_record_no_sharding.py:141] On image 400 of 4813\n",
      "I0205 19:25:53.454202  5744 create_pascal_tf_record_no_sharding.py:141] On image 500 of 4813\n",
      "I0205 19:25:54.923487  5744 create_pascal_tf_record_no_sharding.py:141] On image 600 of 4813\n",
      "I0205 19:25:56.965239  5744 create_pascal_tf_record_no_sharding.py:141] On image 700 of 4813\n",
      "I0205 19:25:58.890585  5744 create_pascal_tf_record_no_sharding.py:141] On image 800 of 4813\n",
      "I0205 19:26:00.723949  5744 create_pascal_tf_record_no_sharding.py:141] On image 900 of 4813\n",
      "I0205 19:26:02.333001  5744 create_pascal_tf_record_no_sharding.py:141] On image 1000 of 4813\n",
      "I0205 19:26:03.403866  5744 create_pascal_tf_record_no_sharding.py:141] On image 1100 of 4813\n",
      "I0205 19:26:04.960006  5744 create_pascal_tf_record_no_sharding.py:141] On image 1200 of 4813\n",
      "I0205 19:26:06.138639  5744 create_pascal_tf_record_no_sharding.py:141] On image 1300 of 4813\n",
      "I0205 19:26:07.195332  5744 create_pascal_tf_record_no_sharding.py:141] On image 1400 of 4813\n",
      "I0205 19:26:08.228229  5744 create_pascal_tf_record_no_sharding.py:141] On image 1500 of 4813\n",
      "I0205 19:26:09.556936  5744 create_pascal_tf_record_no_sharding.py:141] On image 1600 of 4813\n",
      "I0205 19:26:10.696416  5744 create_pascal_tf_record_no_sharding.py:141] On image 1700 of 4813\n",
      "I0205 19:26:12.570631  5744 create_pascal_tf_record_no_sharding.py:141] On image 1800 of 4813\n",
      "I0205 19:26:13.992280  5744 create_pascal_tf_record_no_sharding.py:141] On image 1900 of 4813\n",
      "I0205 19:26:15.535387  5744 create_pascal_tf_record_no_sharding.py:141] On image 2000 of 4813\n",
      "I0205 19:26:17.291795  5744 create_pascal_tf_record_no_sharding.py:141] On image 2100 of 4813\n",
      "I0205 19:26:19.046452  5744 create_pascal_tf_record_no_sharding.py:141] On image 2200 of 4813\n",
      "I0205 19:26:21.339938  5744 create_pascal_tf_record_no_sharding.py:141] On image 2300 of 4813\n",
      "I0205 19:26:22.898436  5744 create_pascal_tf_record_no_sharding.py:141] On image 2400 of 4813\n",
      "I0205 19:26:25.199069  5744 create_pascal_tf_record_no_sharding.py:141] On image 2500 of 4813\n",
      "I0205 19:26:28.299780  5744 create_pascal_tf_record_no_sharding.py:141] On image 2600 of 4813\n",
      "I0205 19:26:30.275204  5744 create_pascal_tf_record_no_sharding.py:141] On image 2700 of 4813\n",
      "I0205 19:26:31.788307  5744 create_pascal_tf_record_no_sharding.py:141] On image 2800 of 4813\n",
      "I0205 19:26:33.719163  5744 create_pascal_tf_record_no_sharding.py:141] On image 2900 of 4813\n"
     ]
    }
   ],
   "source": [
    "cmd = env + run\n",
    "!{cmd}\n"
   ],
   "metadata": {
    "collapsed": false,
    "pycharm": {
     "name": "#%%\n"
    }
   }
  }
 ],
 "metadata": {
  "kernelspec": {
   "display_name": "Python 3",
   "language": "python",
   "name": "python3"
  },
  "language_info": {
   "codemirror_mode": {
    "name": "ipython",
    "version": 2
   },
   "file_extension": ".py",
   "mimetype": "text/x-python",
   "name": "python",
   "nbconvert_exporter": "python",
   "pygments_lexer": "ipython2",
   "version": "2.7.6"
  }
 },
 "nbformat": 4,
 "nbformat_minor": 0
}