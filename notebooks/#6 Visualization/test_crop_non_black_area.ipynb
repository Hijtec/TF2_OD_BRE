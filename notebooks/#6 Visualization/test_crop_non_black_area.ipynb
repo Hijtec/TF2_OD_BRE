{
 "cells": [
  {
   "cell_type": "code",
   "execution_count": 1,
   "metadata": {
    "collapsed": true
   },
   "outputs": [],
   "source": [
    "import numpy as np\n",
    "from PIL import Image\n",
    "from src.utils.image_utils import crop_to_area_above_threshold, crop_image_by_bndbox"
   ]
  },
  {
   "cell_type": "code",
   "execution_count": 2,
   "outputs": [],
   "source": [
    "IMAGE_PATH = r\"C:\\Users\\cernil\\OneDrive - Y Soft Corporation a.s\\DeepLearningBlackbox\\test\\test_images_elevator_control_panel\\frame_007080.jpg\"\n",
    "img_pil = Image.open(IMAGE_PATH)\n",
    "img_np = np.asarray(img_pil)"
   ],
   "metadata": {
    "collapsed": false,
    "pycharm": {
     "name": "#%%\n"
    }
   }
  },
  {
   "cell_type": "code",
   "execution_count": 5,
   "outputs": [],
   "source": [
    "img_np_cropped = crop_to_area_above_threshold(img_np)\n",
    "Image.fromarray(img_np_cropped).show()"
   ],
   "metadata": {
    "collapsed": false,
    "pycharm": {
     "name": "#%%\n"
    }
   }
  }
 ],
 "metadata": {
  "kernelspec": {
   "display_name": "Python 3",
   "language": "python",
   "name": "python3"
  },
  "language_info": {
   "codemirror_mode": {
    "name": "ipython",
    "version": 2
   },
   "file_extension": ".py",
   "mimetype": "text/x-python",
   "name": "python",
   "nbconvert_exporter": "python",
   "pygments_lexer": "ipython2",
   "version": "2.7.6"
  }
 },
 "nbformat": 4,
 "nbformat_minor": 0
}